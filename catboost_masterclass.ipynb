{
  "nbformat": 4,
  "nbformat_minor": 0,
  "metadata": {
    "colab": {
      "name": "catboost-masterclass.ipynb",
      "provenance": [],
      "collapsed_sections": []
    },
    "kernelspec": {
      "name": "python3",
      "display_name": "Python 3"
    },
    "accelerator": "GPU"
  },
  "cells": [
    {
      "cell_type": "code",
      "metadata": {
        "id": "aGalZXy2P0r5",
        "colab_type": "code",
        "outputId": "a64fbc14-f990-4d98-dea0-16c777f00116",
        "colab": {
          "base_uri": "https://localhost:8080/",
          "height": 921
        }
      },
      "source": [
        "!pip install catboost\n",
        "!pip install ipywidgets\n",
        "!jupyter nbextension enable --py widgetsnbextension"
      ],
      "execution_count": 0,
      "outputs": [
        {
          "output_type": "stream",
          "text": [
            "Requirement already satisfied: catboost in /usr/local/lib/python3.6/dist-packages (0.20.2)\n",
            "Requirement already satisfied: plotly in /usr/local/lib/python3.6/dist-packages (from catboost) (4.4.1)\n",
            "Requirement already satisfied: numpy>=1.16.0 in /usr/local/lib/python3.6/dist-packages (from catboost) (1.17.5)\n",
            "Requirement already satisfied: matplotlib in /usr/local/lib/python3.6/dist-packages (from catboost) (3.1.2)\n",
            "Requirement already satisfied: pandas>=0.24.0 in /usr/local/lib/python3.6/dist-packages (from catboost) (0.25.3)\n",
            "Requirement already satisfied: scipy in /usr/local/lib/python3.6/dist-packages (from catboost) (1.4.1)\n",
            "Requirement already satisfied: graphviz in /usr/local/lib/python3.6/dist-packages (from catboost) (0.10.1)\n",
            "Requirement already satisfied: six in /usr/local/lib/python3.6/dist-packages (from catboost) (1.12.0)\n",
            "Requirement already satisfied: retrying>=1.3.3 in /usr/local/lib/python3.6/dist-packages (from plotly->catboost) (1.3.3)\n",
            "Requirement already satisfied: cycler>=0.10 in /usr/local/lib/python3.6/dist-packages (from matplotlib->catboost) (0.10.0)\n",
            "Requirement already satisfied: pyparsing!=2.0.4,!=2.1.2,!=2.1.6,>=2.0.1 in /usr/local/lib/python3.6/dist-packages (from matplotlib->catboost) (2.4.6)\n",
            "Requirement already satisfied: kiwisolver>=1.0.1 in /usr/local/lib/python3.6/dist-packages (from matplotlib->catboost) (1.1.0)\n",
            "Requirement already satisfied: python-dateutil>=2.1 in /usr/local/lib/python3.6/dist-packages (from matplotlib->catboost) (2.6.1)\n",
            "Requirement already satisfied: pytz>=2017.2 in /usr/local/lib/python3.6/dist-packages (from pandas>=0.24.0->catboost) (2018.9)\n",
            "Requirement already satisfied: setuptools in /usr/local/lib/python3.6/dist-packages (from kiwisolver>=1.0.1->matplotlib->catboost) (42.0.2)\n",
            "Requirement already satisfied: ipywidgets in /usr/local/lib/python3.6/dist-packages (7.5.1)\n",
            "Requirement already satisfied: traitlets>=4.3.1 in /usr/local/lib/python3.6/dist-packages (from ipywidgets) (4.3.3)\n",
            "Requirement already satisfied: widgetsnbextension~=3.5.0 in /usr/local/lib/python3.6/dist-packages (from ipywidgets) (3.5.1)\n",
            "Requirement already satisfied: nbformat>=4.2.0 in /usr/local/lib/python3.6/dist-packages (from ipywidgets) (5.0.3)\n",
            "Requirement already satisfied: ipykernel>=4.5.1 in /usr/local/lib/python3.6/dist-packages (from ipywidgets) (4.6.1)\n",
            "Requirement already satisfied: ipython>=4.0.0; python_version >= \"3.3\" in /usr/local/lib/python3.6/dist-packages (from ipywidgets) (5.5.0)\n",
            "Requirement already satisfied: six in /usr/local/lib/python3.6/dist-packages (from traitlets>=4.3.1->ipywidgets) (1.12.0)\n",
            "Requirement already satisfied: ipython-genutils in /usr/local/lib/python3.6/dist-packages (from traitlets>=4.3.1->ipywidgets) (0.2.0)\n",
            "Requirement already satisfied: decorator in /usr/local/lib/python3.6/dist-packages (from traitlets>=4.3.1->ipywidgets) (4.4.1)\n",
            "Requirement already satisfied: notebook>=4.4.1 in /usr/local/lib/python3.6/dist-packages (from widgetsnbextension~=3.5.0->ipywidgets) (5.2.2)\n",
            "Requirement already satisfied: jupyter-core in /usr/local/lib/python3.6/dist-packages (from nbformat>=4.2.0->ipywidgets) (4.6.1)\n",
            "Requirement already satisfied: jsonschema!=2.5.0,>=2.4 in /usr/local/lib/python3.6/dist-packages (from nbformat>=4.2.0->ipywidgets) (2.6.0)\n",
            "Requirement already satisfied: jupyter-client in /usr/local/lib/python3.6/dist-packages (from ipykernel>=4.5.1->ipywidgets) (5.3.4)\n",
            "Requirement already satisfied: tornado>=4.0 in /usr/local/lib/python3.6/dist-packages (from ipykernel>=4.5.1->ipywidgets) (4.5.3)\n",
            "Requirement already satisfied: simplegeneric>0.8 in /usr/local/lib/python3.6/dist-packages (from ipython>=4.0.0; python_version >= \"3.3\"->ipywidgets) (0.8.1)\n",
            "Requirement already satisfied: pickleshare in /usr/local/lib/python3.6/dist-packages (from ipython>=4.0.0; python_version >= \"3.3\"->ipywidgets) (0.7.5)\n",
            "Requirement already satisfied: setuptools>=18.5 in /usr/local/lib/python3.6/dist-packages (from ipython>=4.0.0; python_version >= \"3.3\"->ipywidgets) (42.0.2)\n",
            "Requirement already satisfied: pexpect; sys_platform != \"win32\" in /usr/local/lib/python3.6/dist-packages (from ipython>=4.0.0; python_version >= \"3.3\"->ipywidgets) (4.7.0)\n",
            "Requirement already satisfied: prompt-toolkit<2.0.0,>=1.0.4 in /usr/local/lib/python3.6/dist-packages (from ipython>=4.0.0; python_version >= \"3.3\"->ipywidgets) (1.0.18)\n",
            "Requirement already satisfied: pygments in /usr/local/lib/python3.6/dist-packages (from ipython>=4.0.0; python_version >= \"3.3\"->ipywidgets) (2.1.3)\n",
            "Requirement already satisfied: jinja2 in /usr/local/lib/python3.6/dist-packages (from notebook>=4.4.1->widgetsnbextension~=3.5.0->ipywidgets) (2.10.3)\n",
            "Requirement already satisfied: nbconvert in /usr/local/lib/python3.6/dist-packages (from notebook>=4.4.1->widgetsnbextension~=3.5.0->ipywidgets) (5.6.1)\n",
            "Requirement already satisfied: terminado>=0.3.3; sys_platform != \"win32\" in /usr/local/lib/python3.6/dist-packages (from notebook>=4.4.1->widgetsnbextension~=3.5.0->ipywidgets) (0.8.3)\n",
            "Requirement already satisfied: pyzmq>=13 in /usr/local/lib/python3.6/dist-packages (from jupyter-client->ipykernel>=4.5.1->ipywidgets) (17.0.0)\n",
            "Requirement already satisfied: python-dateutil>=2.1 in /usr/local/lib/python3.6/dist-packages (from jupyter-client->ipykernel>=4.5.1->ipywidgets) (2.6.1)\n",
            "Requirement already satisfied: ptyprocess>=0.5 in /usr/local/lib/python3.6/dist-packages (from pexpect; sys_platform != \"win32\"->ipython>=4.0.0; python_version >= \"3.3\"->ipywidgets) (0.6.0)\n",
            "Requirement already satisfied: wcwidth in /usr/local/lib/python3.6/dist-packages (from prompt-toolkit<2.0.0,>=1.0.4->ipython>=4.0.0; python_version >= \"3.3\"->ipywidgets) (0.1.8)\n",
            "Requirement already satisfied: MarkupSafe>=0.23 in /usr/local/lib/python3.6/dist-packages (from jinja2->notebook>=4.4.1->widgetsnbextension~=3.5.0->ipywidgets) (1.1.1)\n",
            "Requirement already satisfied: mistune<2,>=0.8.1 in /usr/local/lib/python3.6/dist-packages (from nbconvert->notebook>=4.4.1->widgetsnbextension~=3.5.0->ipywidgets) (0.8.4)\n",
            "Requirement already satisfied: bleach in /usr/local/lib/python3.6/dist-packages (from nbconvert->notebook>=4.4.1->widgetsnbextension~=3.5.0->ipywidgets) (3.1.0)\n",
            "Requirement already satisfied: pandocfilters>=1.4.1 in /usr/local/lib/python3.6/dist-packages (from nbconvert->notebook>=4.4.1->widgetsnbextension~=3.5.0->ipywidgets) (1.4.2)\n",
            "Requirement already satisfied: testpath in /usr/local/lib/python3.6/dist-packages (from nbconvert->notebook>=4.4.1->widgetsnbextension~=3.5.0->ipywidgets) (0.4.4)\n",
            "Requirement already satisfied: defusedxml in /usr/local/lib/python3.6/dist-packages (from nbconvert->notebook>=4.4.1->widgetsnbextension~=3.5.0->ipywidgets) (0.6.0)\n",
            "Requirement already satisfied: entrypoints>=0.2.2 in /usr/local/lib/python3.6/dist-packages (from nbconvert->notebook>=4.4.1->widgetsnbextension~=3.5.0->ipywidgets) (0.3)\n",
            "Requirement already satisfied: webencodings in /usr/local/lib/python3.6/dist-packages (from bleach->nbconvert->notebook>=4.4.1->widgetsnbextension~=3.5.0->ipywidgets) (0.5.1)\n",
            "Enabling notebook extension jupyter-js-widgets/extension...\n",
            "      - Validating: \u001b[32mOK\u001b[0m\n"
          ],
          "name": "stdout"
        }
      ]
    },
    {
      "cell_type": "code",
      "metadata": {
        "id": "C4NA3IscP_gf",
        "colab_type": "code",
        "colab": {}
      },
      "source": [
        ""
      ],
      "execution_count": 0,
      "outputs": []
    },
    {
      "cell_type": "markdown",
      "metadata": {
        "id": "Vf1A1cRhTN0m",
        "colab_type": "text"
      },
      "source": [
        "Data Preparation"
      ]
    },
    {
      "cell_type": "code",
      "metadata": {
        "id": "KUAAcTzUTQBz",
        "colab_type": "code",
        "colab": {}
      },
      "source": [
        "from catboost.datasets import amazon\n",
        "import pandas as pd\n",
        "import numpy as np\n",
        "from sklearn.model_selection import train_test_split\n",
        "from catboost import Pool"
      ],
      "execution_count": 0,
      "outputs": []
    },
    {
      "cell_type": "code",
      "metadata": {
        "id": "YoMnUkV9TalG",
        "colab_type": "code",
        "colab": {}
      },
      "source": [
        "train_df, test_df = amazon()\n"
      ],
      "execution_count": 0,
      "outputs": []
    },
    {
      "cell_type": "code",
      "metadata": {
        "id": "6II_sKm2KgGs",
        "colab_type": "code",
        "outputId": "2d52e475-b908-4819-b76e-0bbfd370f494",
        "colab": {
          "base_uri": "https://localhost:8080/",
          "height": 204
        }
      },
      "source": [
        "train_df.head()"
      ],
      "execution_count": 0,
      "outputs": [
        {
          "output_type": "execute_result",
          "data": {
            "text/html": [
              "<div>\n",
              "<style scoped>\n",
              "    .dataframe tbody tr th:only-of-type {\n",
              "        vertical-align: middle;\n",
              "    }\n",
              "\n",
              "    .dataframe tbody tr th {\n",
              "        vertical-align: top;\n",
              "    }\n",
              "\n",
              "    .dataframe thead th {\n",
              "        text-align: right;\n",
              "    }\n",
              "</style>\n",
              "<table border=\"1\" class=\"dataframe\">\n",
              "  <thead>\n",
              "    <tr style=\"text-align: right;\">\n",
              "      <th></th>\n",
              "      <th>ACTION</th>\n",
              "      <th>RESOURCE</th>\n",
              "      <th>MGR_ID</th>\n",
              "      <th>ROLE_ROLLUP_1</th>\n",
              "      <th>ROLE_ROLLUP_2</th>\n",
              "      <th>ROLE_DEPTNAME</th>\n",
              "      <th>ROLE_TITLE</th>\n",
              "      <th>ROLE_FAMILY_DESC</th>\n",
              "      <th>ROLE_FAMILY</th>\n",
              "      <th>ROLE_CODE</th>\n",
              "    </tr>\n",
              "  </thead>\n",
              "  <tbody>\n",
              "    <tr>\n",
              "      <th>13192</th>\n",
              "      <td>1</td>\n",
              "      <td>75943</td>\n",
              "      <td>3100</td>\n",
              "      <td>117916</td>\n",
              "      <td>117917</td>\n",
              "      <td>118599</td>\n",
              "      <td>179731</td>\n",
              "      <td>120238</td>\n",
              "      <td>117887</td>\n",
              "      <td>117973</td>\n",
              "    </tr>\n",
              "    <tr>\n",
              "      <th>31386</th>\n",
              "      <td>1</td>\n",
              "      <td>109084</td>\n",
              "      <td>1483</td>\n",
              "      <td>117961</td>\n",
              "      <td>117962</td>\n",
              "      <td>118840</td>\n",
              "      <td>124886</td>\n",
              "      <td>124887</td>\n",
              "      <td>118643</td>\n",
              "      <td>124888</td>\n",
              "    </tr>\n",
              "    <tr>\n",
              "      <th>20396</th>\n",
              "      <td>1</td>\n",
              "      <td>74557</td>\n",
              "      <td>7504</td>\n",
              "      <td>117961</td>\n",
              "      <td>118300</td>\n",
              "      <td>118783</td>\n",
              "      <td>118321</td>\n",
              "      <td>117906</td>\n",
              "      <td>290919</td>\n",
              "      <td>118322</td>\n",
              "    </tr>\n",
              "    <tr>\n",
              "      <th>30156</th>\n",
              "      <td>1</td>\n",
              "      <td>19310</td>\n",
              "      <td>14551</td>\n",
              "      <td>5110</td>\n",
              "      <td>117954</td>\n",
              "      <td>117895</td>\n",
              "      <td>117899</td>\n",
              "      <td>117897</td>\n",
              "      <td>19721</td>\n",
              "      <td>117900</td>\n",
              "    </tr>\n",
              "    <tr>\n",
              "      <th>896</th>\n",
              "      <td>1</td>\n",
              "      <td>79363</td>\n",
              "      <td>1030</td>\n",
              "      <td>117961</td>\n",
              "      <td>118343</td>\n",
              "      <td>120722</td>\n",
              "      <td>118361</td>\n",
              "      <td>118362</td>\n",
              "      <td>118363</td>\n",
              "      <td>118364</td>\n",
              "    </tr>\n",
              "  </tbody>\n",
              "</table>\n",
              "</div>"
            ],
            "text/plain": [
              "       ACTION  RESOURCE  MGR_ID  ...  ROLE_FAMILY_DESC  ROLE_FAMILY  ROLE_CODE\n",
              "13192       1     75943    3100  ...            120238       117887     117973\n",
              "31386       1    109084    1483  ...            124887       118643     124888\n",
              "20396       1     74557    7504  ...            117906       290919     118322\n",
              "30156       1     19310   14551  ...            117897        19721     117900\n",
              "896         1     79363    1030  ...            118362       118363     118364\n",
              "\n",
              "[5 rows x 10 columns]"
            ]
          },
          "metadata": {
            "tags": []
          },
          "execution_count": 19
        }
      ]
    },
    {
      "cell_type": "code",
      "metadata": {
        "id": "jJ6s48VAX7ZH",
        "colab_type": "code",
        "outputId": "902caa04-d7e1-48ce-c165-3db6d5f56cdc",
        "colab": {
          "base_uri": "https://localhost:8080/",
          "height": 34
        }
      },
      "source": [
        "train_df.shape"
      ],
      "execution_count": 0,
      "outputs": [
        {
          "output_type": "execute_result",
          "data": {
            "text/plain": [
              "(26542, 10)"
            ]
          },
          "metadata": {
            "tags": []
          },
          "execution_count": 29
        }
      ]
    },
    {
      "cell_type": "code",
      "metadata": {
        "id": "xDqXnSs3YmBj",
        "colab_type": "code",
        "outputId": "db6ca94a-3735-48b1-dd8d-9aa6314530bd",
        "colab": {
          "base_uri": "https://localhost:8080/",
          "height": 204
        }
      },
      "source": [
        "train_df.isnull().sum()"
      ],
      "execution_count": 0,
      "outputs": [
        {
          "output_type": "execute_result",
          "data": {
            "text/plain": [
              "ACTION              0\n",
              "RESOURCE            0\n",
              "MGR_ID              0\n",
              "ROLE_ROLLUP_1       0\n",
              "ROLE_ROLLUP_2       0\n",
              "ROLE_DEPTNAME       0\n",
              "ROLE_TITLE          0\n",
              "ROLE_FAMILY_DESC    0\n",
              "ROLE_FAMILY         0\n",
              "ROLE_CODE           0\n",
              "dtype: int64"
            ]
          },
          "metadata": {
            "tags": []
          },
          "execution_count": 30
        }
      ]
    },
    {
      "cell_type": "code",
      "metadata": {
        "id": "mBvArUjnWYvk",
        "colab_type": "code",
        "outputId": "7c1dc44f-89d6-43b3-e2b3-47aa8b90bf4e",
        "colab": {
          "base_uri": "https://localhost:8080/",
          "height": 187
        }
      },
      "source": [
        "for col in train_df.columns:\n",
        "    s = train_df[col].unique().shape[0]\n",
        "    print(f'For column {col} the number of unique valriables is {s}')"
      ],
      "execution_count": 0,
      "outputs": [
        {
          "output_type": "stream",
          "text": [
            "For column ACTION the number of unique valriables is 2\n",
            "For column RESOURCE the number of unique valriables is 7099\n",
            "For column MGR_ID the number of unique valriables is 4158\n",
            "For column ROLE_ROLLUP_1 the number of unique valriables is 128\n",
            "For column ROLE_ROLLUP_2 the number of unique valriables is 176\n",
            "For column ROLE_DEPTNAME the number of unique valriables is 445\n",
            "For column ROLE_TITLE the number of unique valriables is 342\n",
            "For column ROLE_FAMILY_DESC the number of unique valriables is 2293\n",
            "For column ROLE_FAMILY the number of unique valriables is 67\n",
            "For column ROLE_CODE the number of unique valriables is 342\n"
          ],
          "name": "stdout"
        }
      ]
    },
    {
      "cell_type": "code",
      "metadata": {
        "id": "LJ2jq8ZpXhD1",
        "colab_type": "code",
        "outputId": "bffe8bd9-dab3-43d5-8bc9-b31cec98dbe5",
        "colab": {
          "base_uri": "https://localhost:8080/",
          "height": 51
        }
      },
      "source": [
        "print(f'Labels are {set(train_df[\"ACTION\"])}')\n",
        "ones = train_df['ACTION'].loc[train_df['ACTION']==1].shape[0]\n",
        "zeros = train_df['ACTION'].loc[train_df['ACTION']==0].shape[0]\n",
        "print(f'Number of 1s in a dataset: {ones}, Number of 0s in a dataset: {zeros}')"
      ],
      "execution_count": 0,
      "outputs": [
        {
          "output_type": "stream",
          "text": [
            "Labels are {0, 1}\n",
            "Number of 1s in a dataset: 27785, Number of 0s in a dataset: 1707\n"
          ],
          "name": "stdout"
        }
      ]
    },
    {
      "cell_type": "code",
      "metadata": {
        "id": "N8Opv_p1o3rx",
        "colab_type": "code",
        "colab": {}
      },
      "source": [
        "train_df, validation_df = train_test_split(train_df, test_size=0.1, stratify=train_df['ACTION'], random_state=200)\n"
      ],
      "execution_count": 0,
      "outputs": []
    },
    {
      "cell_type": "code",
      "metadata": {
        "id": "JEUZupVYWK9W",
        "colab_type": "code",
        "colab": {}
      },
      "source": [
        ""
      ],
      "execution_count": 0,
      "outputs": []
    },
    {
      "cell_type": "code",
      "metadata": {
        "id": "EDYdpUyKImiQ",
        "colab_type": "code",
        "colab": {}
      },
      "source": [
        "X, Y = train_df.drop(['ACTION'], axis=1), train_df['ACTION']\n",
        "\n",
        "\n",
        "\n",
        "\n"
      ],
      "execution_count": 0,
      "outputs": []
    },
    {
      "cell_type": "code",
      "metadata": {
        "id": "877Z4VEvpP7M",
        "colab_type": "code",
        "outputId": "0c4660bf-acf7-4901-9493-8f8d55e16ca6",
        "colab": {
          "base_uri": "https://localhost:8080/",
          "height": 204
        }
      },
      "source": [
        "X.head()"
      ],
      "execution_count": 0,
      "outputs": [
        {
          "output_type": "execute_result",
          "data": {
            "text/html": [
              "<div>\n",
              "<style scoped>\n",
              "    .dataframe tbody tr th:only-of-type {\n",
              "        vertical-align: middle;\n",
              "    }\n",
              "\n",
              "    .dataframe tbody tr th {\n",
              "        vertical-align: top;\n",
              "    }\n",
              "\n",
              "    .dataframe thead th {\n",
              "        text-align: right;\n",
              "    }\n",
              "</style>\n",
              "<table border=\"1\" class=\"dataframe\">\n",
              "  <thead>\n",
              "    <tr style=\"text-align: right;\">\n",
              "      <th></th>\n",
              "      <th>RESOURCE</th>\n",
              "      <th>MGR_ID</th>\n",
              "      <th>ROLE_ROLLUP_1</th>\n",
              "      <th>ROLE_ROLLUP_2</th>\n",
              "      <th>ROLE_DEPTNAME</th>\n",
              "      <th>ROLE_TITLE</th>\n",
              "      <th>ROLE_FAMILY_DESC</th>\n",
              "      <th>ROLE_FAMILY</th>\n",
              "      <th>ROLE_CODE</th>\n",
              "    </tr>\n",
              "  </thead>\n",
              "  <tbody>\n",
              "    <tr>\n",
              "      <th>27111</th>\n",
              "      <td>36923</td>\n",
              "      <td>14811</td>\n",
              "      <td>117961</td>\n",
              "      <td>118343</td>\n",
              "      <td>118344</td>\n",
              "      <td>120812</td>\n",
              "      <td>120812</td>\n",
              "      <td>118638</td>\n",
              "      <td>120814</td>\n",
              "    </tr>\n",
              "    <tr>\n",
              "      <th>24603</th>\n",
              "      <td>27665</td>\n",
              "      <td>20696</td>\n",
              "      <td>117876</td>\n",
              "      <td>117877</td>\n",
              "      <td>117878</td>\n",
              "      <td>117879</td>\n",
              "      <td>153408</td>\n",
              "      <td>19721</td>\n",
              "      <td>117880</td>\n",
              "    </tr>\n",
              "    <tr>\n",
              "      <th>27407</th>\n",
              "      <td>16636</td>\n",
              "      <td>217</td>\n",
              "      <td>117961</td>\n",
              "      <td>118413</td>\n",
              "      <td>120370</td>\n",
              "      <td>118321</td>\n",
              "      <td>240983</td>\n",
              "      <td>290919</td>\n",
              "      <td>118322</td>\n",
              "    </tr>\n",
              "    <tr>\n",
              "      <th>28521</th>\n",
              "      <td>26435</td>\n",
              "      <td>4642</td>\n",
              "      <td>117961</td>\n",
              "      <td>118225</td>\n",
              "      <td>120551</td>\n",
              "      <td>118685</td>\n",
              "      <td>279443</td>\n",
              "      <td>308574</td>\n",
              "      <td>118687</td>\n",
              "    </tr>\n",
              "    <tr>\n",
              "      <th>11523</th>\n",
              "      <td>23802</td>\n",
              "      <td>7504</td>\n",
              "      <td>117961</td>\n",
              "      <td>118300</td>\n",
              "      <td>118783</td>\n",
              "      <td>118321</td>\n",
              "      <td>117906</td>\n",
              "      <td>290919</td>\n",
              "      <td>118322</td>\n",
              "    </tr>\n",
              "  </tbody>\n",
              "</table>\n",
              "</div>"
            ],
            "text/plain": [
              "       RESOURCE  MGR_ID  ...  ROLE_FAMILY  ROLE_CODE\n",
              "27111     36923   14811  ...       118638     120814\n",
              "24603     27665   20696  ...        19721     117880\n",
              "27407     16636     217  ...       290919     118322\n",
              "28521     26435    4642  ...       308574     118687\n",
              "11523     23802    7504  ...       290919     118322\n",
              "\n",
              "[5 rows x 9 columns]"
            ]
          },
          "metadata": {
            "tags": []
          },
          "execution_count": 25
        }
      ]
    },
    {
      "cell_type": "code",
      "metadata": {
        "id": "5vJK-F6wpUHi",
        "colab_type": "code",
        "colab": {}
      },
      "source": [
        "categorical_indices = list(range(0, len(X.columns))) # indices of categorical features"
      ],
      "execution_count": 0,
      "outputs": []
    },
    {
      "cell_type": "code",
      "metadata": {
        "id": "CLWJtZpJMRkD",
        "colab_type": "code",
        "outputId": "9e5d911c-3e96-4e5a-cfd8-1b9b03e36abd",
        "colab": {
          "base_uri": "https://localhost:8080/",
          "height": 204
        }
      },
      "source": [
        "X.iloc[:, categorical_indices].head()\n"
      ],
      "execution_count": 0,
      "outputs": [
        {
          "output_type": "execute_result",
          "data": {
            "text/html": [
              "<div>\n",
              "<style scoped>\n",
              "    .dataframe tbody tr th:only-of-type {\n",
              "        vertical-align: middle;\n",
              "    }\n",
              "\n",
              "    .dataframe tbody tr th {\n",
              "        vertical-align: top;\n",
              "    }\n",
              "\n",
              "    .dataframe thead th {\n",
              "        text-align: right;\n",
              "    }\n",
              "</style>\n",
              "<table border=\"1\" class=\"dataframe\">\n",
              "  <thead>\n",
              "    <tr style=\"text-align: right;\">\n",
              "      <th></th>\n",
              "      <th>RESOURCE</th>\n",
              "      <th>MGR_ID</th>\n",
              "      <th>ROLE_ROLLUP_1</th>\n",
              "      <th>ROLE_ROLLUP_2</th>\n",
              "      <th>ROLE_DEPTNAME</th>\n",
              "      <th>ROLE_TITLE</th>\n",
              "      <th>ROLE_FAMILY_DESC</th>\n",
              "      <th>ROLE_FAMILY</th>\n",
              "      <th>ROLE_CODE</th>\n",
              "    </tr>\n",
              "  </thead>\n",
              "  <tbody>\n",
              "    <tr>\n",
              "      <th>27111</th>\n",
              "      <td>36923</td>\n",
              "      <td>14811</td>\n",
              "      <td>117961</td>\n",
              "      <td>118343</td>\n",
              "      <td>118344</td>\n",
              "      <td>120812</td>\n",
              "      <td>120812</td>\n",
              "      <td>118638</td>\n",
              "      <td>120814</td>\n",
              "    </tr>\n",
              "    <tr>\n",
              "      <th>24603</th>\n",
              "      <td>27665</td>\n",
              "      <td>20696</td>\n",
              "      <td>117876</td>\n",
              "      <td>117877</td>\n",
              "      <td>117878</td>\n",
              "      <td>117879</td>\n",
              "      <td>153408</td>\n",
              "      <td>19721</td>\n",
              "      <td>117880</td>\n",
              "    </tr>\n",
              "    <tr>\n",
              "      <th>27407</th>\n",
              "      <td>16636</td>\n",
              "      <td>217</td>\n",
              "      <td>117961</td>\n",
              "      <td>118413</td>\n",
              "      <td>120370</td>\n",
              "      <td>118321</td>\n",
              "      <td>240983</td>\n",
              "      <td>290919</td>\n",
              "      <td>118322</td>\n",
              "    </tr>\n",
              "    <tr>\n",
              "      <th>28521</th>\n",
              "      <td>26435</td>\n",
              "      <td>4642</td>\n",
              "      <td>117961</td>\n",
              "      <td>118225</td>\n",
              "      <td>120551</td>\n",
              "      <td>118685</td>\n",
              "      <td>279443</td>\n",
              "      <td>308574</td>\n",
              "      <td>118687</td>\n",
              "    </tr>\n",
              "    <tr>\n",
              "      <th>11523</th>\n",
              "      <td>23802</td>\n",
              "      <td>7504</td>\n",
              "      <td>117961</td>\n",
              "      <td>118300</td>\n",
              "      <td>118783</td>\n",
              "      <td>118321</td>\n",
              "      <td>117906</td>\n",
              "      <td>290919</td>\n",
              "      <td>118322</td>\n",
              "    </tr>\n",
              "  </tbody>\n",
              "</table>\n",
              "</div>"
            ],
            "text/plain": [
              "       RESOURCE  MGR_ID  ...  ROLE_FAMILY  ROLE_CODE\n",
              "27111     36923   14811  ...       118638     120814\n",
              "24603     27665   20696  ...        19721     117880\n",
              "27407     16636     217  ...       290919     118322\n",
              "28521     26435    4642  ...       308574     118687\n",
              "11523     23802    7504  ...       290919     118322\n",
              "\n",
              "[5 rows x 9 columns]"
            ]
          },
          "metadata": {
            "tags": []
          },
          "execution_count": 28
        }
      ]
    },
    {
      "cell_type": "code",
      "metadata": {
        "id": "XqMGmI2xTiu2",
        "colab_type": "code",
        "colab": {}
      },
      "source": [
        ""
      ],
      "execution_count": 0,
      "outputs": []
    },
    {
      "cell_type": "markdown",
      "metadata": {
        "id": "KAV4fOzqMIhn",
        "colab_type": "text"
      },
      "source": [
        ""
      ]
    },
    {
      "cell_type": "code",
      "metadata": {
        "id": "k5gVTNOeMJBw",
        "colab_type": "code",
        "colab": {}
      },
      "source": [
        ""
      ],
      "execution_count": 0,
      "outputs": []
    },
    {
      "cell_type": "markdown",
      "metadata": {
        "id": "OIofKvtkLSpK",
        "colab_type": "text"
      },
      "source": [
        "Let's inject some random noise into objects"
      ]
    },
    {
      "cell_type": "markdown",
      "metadata": {
        "id": "25nshoYyXAOo",
        "colab_type": "text"
      },
      "source": [
        "The dataset for the purposes of this talk is very clean. All variables are of the same type, all categorical. No missing values to worry about. The only issue is imbalance of the dataset. That can, and should be treated during data preparation process, with different techniques depending on your problem. "
      ]
    },
    {
      "cell_type": "markdown",
      "metadata": {
        "id": "k1IjQUVLYCUI",
        "colab_type": "text"
      },
      "source": [
        "**Modeling**"
      ]
    },
    {
      "cell_type": "code",
      "metadata": {
        "id": "rRlnn_bXWw3-",
        "colab_type": "code",
        "colab": {}
      },
      "source": [
        "from sklearn.metrics import accuracy_score, classification_report, confusion_matrix, roc_auc_score\n",
        "from sklearn.model_selection import StratifiedKFold\n",
        "from catboost import CatBoostClassifier, sum_models\n",
        "\n",
        "\n",
        "def cv_catboost(X, Y, cat_columns):\n",
        "    # CROSS VALIDATION\n",
        "    cv = StratifiedKFold(n_splits=5, shuffle=True, random_state=7)\n",
        "\n",
        "    # RUN\n",
        "    c = 0\n",
        "    oof_preds = np.zeros((len(X), 2))\n",
        "    models = []\n",
        "\n",
        "    for train, valid in cv.split(X, Y):\n",
        "        print(\"VAL fold %s\" % c)\n",
        "        X_train = X.iloc[train]\n",
        "        Y_train = Y.iloc[train]\n",
        "        X_valid = X.iloc[valid]\n",
        "        Y_valid = Y.iloc[valid]\n",
        "\n",
        "        model = CatBoostClassifier(iterations=2000, \n",
        "                                   verbose=200,\n",
        "                                   random_seed=43,\n",
        "                                   od_type='Iter',\n",
        "                                   od_wait=100,\n",
        "                                   train_dir=f'model_cross_val_{c}',\n",
        "                                   task_type='GPU'\n",
        "                                   )\n",
        "\n",
        "        try:\n",
        "            model.fit(X_train, Y_train,\n",
        "                    eval_set=(X_valid, Y_valid), \n",
        "                    use_best_model=True,\n",
        "                    cat_features=cat_columns, \n",
        "                    save_snapshot=True,\n",
        "                    snapshot_interval=300,\n",
        "                    snapshot_file=f'snapshot_{c}',\n",
        "                    )\n",
        "        except:\n",
        "            model.fit(X_train, Y_train,\n",
        "                    eval_set=(X_valid, Y_valid), \n",
        "                    use_best_model=True,\n",
        "                    cat_features=cat_columns,\n",
        "                    )\n",
        "        \n",
        "        oof_preds[valid] = model.predict_proba(X_valid)\n",
        "        models.append(model)\n",
        "\n",
        "\n",
        "        # EVALUATION\n",
        "        auc = roc_auc_score(validation_df['ACTION'], [r[1] for r in model.predict_proba(validation_df.drop('ACTION', axis=1))] )\n",
        "        print(f'AUC for fold {c} is {auc}')\n",
        "        c += 1\n",
        "\n",
        "    final_model = sum_models(models, ctr_merge_policy='LeaveMostDiversifiedTable')\n",
        "    auc = roc_auc_score(validation_df['ACTION'], [r[1] for r in final_model.predict(validation_df.drop('ACTION', axis=1), prediction_type='Probability')] )\n",
        "    print(f'Final model AUC is {auc}')\n",
        "    \n",
        "\n",
        "    # OOF PREDS\n",
        "    oof_preds = [row[1] for row in oof_preds]\n",
        "    auc = roc_auc_score(Y, oof_preds)\n",
        "    print(\"CV_AUC: {}\".format(auc))\n",
        "\n",
        "    # SAVE OOF PREDS\n",
        "    oof_pred_df = pd.DataFrame(columns=['ID_code', 'target'])\n",
        "    oof_pred_df['ID_code'] = pd.Series(X.index.tolist())\n",
        "    oof_pred_df['target'] = pd.Series(oof_preds)\n",
        "\n",
        "    return final_model, oof_pred_df, models"
      ],
      "execution_count": 0,
      "outputs": []
    },
    {
      "cell_type": "code",
      "metadata": {
        "id": "ggxqCtxdZAkp",
        "colab_type": "code",
        "outputId": "28c777a1-c40d-4107-d8bc-d37461b7acb4",
        "colab": {
          "base_uri": "https://localhost:8080/",
          "height": 918
        }
      },
      "source": [
        "import time\n",
        "start = time.time()\n",
        "final_model, oof_pred_df, models = cv_catboost(X, Y, categorical_indices)\n",
        "print(time.time() - start)"
      ],
      "execution_count": 0,
      "outputs": [
        {
          "output_type": "stream",
          "text": [
            "VAL fold 0\n",
            "Learning rate set to 0.079937\n",
            "Learning rate set to 0.079937\n",
            "0:\tlearn: 0.5839973\ttest: 0.5808998\tbest: 0.5808998 (0)\ttotal: 77.9ms\tremaining: 2m 35s\n",
            "200:\tlearn: 0.1480123\ttest: 0.1402514\tbest: 0.1400969 (184)\ttotal: 15.5s\tremaining: 2m 18s\n",
            "400:\tlearn: 0.1400761\ttest: 0.1391977\tbest: 0.1390787 (301)\ttotal: 30.7s\tremaining: 2m 2s\n",
            "bestTest = 0.1390787147\n",
            "bestIteration = 301\n",
            "Shrink model to first 302 iterations.\n",
            "AUC for fold 0 is 0.8930049725489205\n",
            "VAL fold 1\n",
            "Learning rate set to 0.079937\n",
            "Learning rate set to 0.079937\n",
            "0:\tlearn: 0.5808591\ttest: 0.5834231\tbest: 0.5834231 (0)\ttotal: 77.3ms\tremaining: 2m 34s\n",
            "200:\tlearn: 0.1460434\ttest: 0.1530464\tbest: 0.1530322 (197)\ttotal: 15.6s\tremaining: 2m 19s\n",
            "bestTest = 0.152966012\n",
            "bestIteration = 205\n",
            "Shrink model to first 206 iterations.\n",
            "AUC for fold 1 is 0.8809271289053868\n",
            "VAL fold 2\n",
            "Learning rate set to 0.079937\n",
            "Learning rate set to 0.079937\n",
            "0:\tlearn: 0.5810679\ttest: 0.5811428\tbest: 0.5811428 (0)\ttotal: 75.9ms\tremaining: 2m 31s\n",
            "200:\tlearn: 0.1478433\ttest: 0.1434102\tbest: 0.1434102 (200)\ttotal: 15.3s\tremaining: 2m 17s\n",
            "400:\tlearn: 0.1403832\ttest: 0.1429244\tbest: 0.1428327 (353)\ttotal: 30.5s\tremaining: 2m 1s\n",
            "600:\tlearn: 0.1359147\ttest: 0.1426503\tbest: 0.1426503 (600)\ttotal: 45.7s\tremaining: 1m 46s\n",
            "bestTest = 0.1426457604\n",
            "bestIteration = 601\n",
            "Shrink model to first 602 iterations.\n",
            "AUC for fold 2 is 0.8918749434459365\n",
            "VAL fold 3\n",
            "Learning rate set to 0.079937\n",
            "Learning rate set to 0.079937\n",
            "0:\tlearn: 0.5813469\ttest: 0.5789091\tbest: 0.5789091 (0)\ttotal: 77.7ms\tremaining: 2m 35s\n",
            "200:\tlearn: 0.1497872\ttest: 0.1410381\tbest: 0.1409489 (185)\ttotal: 15.8s\tremaining: 2m 21s\n",
            "400:\tlearn: 0.1416988\ttest: 0.1400834\tbest: 0.1400103 (380)\ttotal: 31.1s\tremaining: 2m 4s\n",
            "bestTest = 0.1400102789\n",
            "bestIteration = 380\n",
            "Shrink model to first 381 iterations.\n",
            "AUC for fold 3 is 0.8856282183207811\n",
            "VAL fold 4\n",
            "Learning rate set to 0.079937\n",
            "Learning rate set to 0.079937\n",
            "0:\tlearn: 0.5836105\ttest: 0.5787826\tbest: 0.5787826 (0)\ttotal: 74.1ms\tremaining: 2m 28s\n",
            "200:\tlearn: 0.1493535\ttest: 0.1371662\tbest: 0.1371600 (199)\ttotal: 15.4s\tremaining: 2m 18s\n",
            "400:\tlearn: 0.1419819\ttest: 0.1360788\tbest: 0.1360061 (396)\ttotal: 30.5s\tremaining: 2m 1s\n",
            "bestTest = 0.1359133573\n",
            "bestIteration = 449\n",
            "Shrink model to first 450 iterations.\n",
            "AUC for fold 4 is 0.8837616711804701\n",
            "Final model AUC is 0.8949083455910978\n",
            "CV_AUC: 0.8873835513851676\n",
            "204.82464599609375\n"
          ],
          "name": "stdout"
        }
      ]
    },
    {
      "cell_type": "code",
      "metadata": {
        "id": "ZFK2Z193ZIcb",
        "colab_type": "code",
        "colab": {}
      },
      "source": [
        ""
      ],
      "execution_count": 0,
      "outputs": []
    },
    {
      "cell_type": "markdown",
      "metadata": {
        "id": "Gi2iaKFSBQ0k",
        "colab_type": "text"
      },
      "source": [
        ""
      ]
    },
    {
      "cell_type": "code",
      "metadata": {
        "id": "vXMGHjcbUWUW",
        "colab_type": "code",
        "colab": {}
      },
      "source": [
        "\n",
        "\n"
      ],
      "execution_count": 0,
      "outputs": []
    },
    {
      "cell_type": "markdown",
      "metadata": {
        "id": "ECy5rHUtK9AC",
        "colab_type": "text"
      },
      "source": [
        "Get feature importance"
      ]
    },
    {
      "cell_type": "code",
      "metadata": {
        "id": "upmNljmwCKAi",
        "colab_type": "code",
        "colab": {}
      },
      "source": [
        "import numpy as np \n",
        "from sklearn.metrics import roc_auc_score, accuracy_score\n",
        "\n",
        "\n",
        "def score(model, X, y):\n",
        "    y_pred = model.predict(X)\n",
        "    return accuracy_score(y, y_pred)\n",
        "\n",
        "def score_auc(model, X, y):\n",
        "    y_pred_prob = [i[1] for i in model.predict_proba(X)]\n",
        "    return roc_auc_score(y, y_pred_prob)\n",
        "\n",
        "def shuffled_scores(X_orig, y, model, score_func):\n",
        "    scores = []\n",
        "    for col in X_orig.columns:\n",
        "        X = X_orig.copy()\n",
        "        X[col] = np.random.permutation(X[col])\n",
        "        score = score_func(model, X, y)\n",
        "        scores.append(score)\n",
        "    return np.array(scores)\n",
        "\n",
        "def permutation_feature_importance(X, y, model, score_func, n_iter):\n",
        "    base_score = score_func(model, X, y)\n",
        "    print('Base score is ', base_score)\n",
        "    score_decreases = []\n",
        "    for i in range(n_iter):\n",
        "        scores = shuffled_scores(X, y, model, score_func)\n",
        "        score_decreases.append(-scores + base_score)\n",
        "    return base_score, score_decreases\n",
        "\n",
        "def get_permutation_importance(X, y, model, score_func):\n",
        "    '''\n",
        "    Call this function to get permutation feature importances.\n",
        "    X - pandas dataframe with all the features used to train the model\n",
        "    y - pandas dataframe or series object \n",
        "    model - Model object used for prediction. Any model objects with predict or .predict_proba methods are acceptable. \n",
        "    score_func - function to score the model. AUC and ACCURACY are available above\n",
        "    '''\n",
        "    \n",
        "    base_score, score_decreases = permutation_feature_importance(X, y, model, score_func, 5)\n",
        "    permutation_feature_importances = np.mean(score_decreases, axis=0)\n",
        "\n",
        "    return base_score, permutation_feature_importances"
      ],
      "execution_count": 0,
      "outputs": []
    },
    {
      "cell_type": "code",
      "metadata": {
        "id": "I_P_Rpq2oA2B",
        "colab_type": "code",
        "outputId": "ae500504-da36-417e-b809-c26b06d17ef4",
        "colab": {
          "base_uri": "https://localhost:8080/",
          "height": 34
        }
      },
      "source": [
        "base_score, permutation_feature_importances = get_permutation_importance(validation_df.drop('ACTION', axis=1), validation_df['ACTION'], models[0], score_auc)"
      ],
      "execution_count": 0,
      "outputs": [
        {
          "output_type": "stream",
          "text": [
            "Base score is  0.8930049725489205\n"
          ],
          "name": "stdout"
        }
      ]
    },
    {
      "cell_type": "code",
      "metadata": {
        "id": "g5FuS2GiXPwE",
        "colab_type": "code",
        "colab": {}
      },
      "source": [
        "feat_df = pd.DataFrame()\n",
        "feat_df['feature'] = validation_df.drop('ACTION', axis=1).columns.tolist()\n",
        "feat_df['scores'] = permutation_feature_importances\n",
        "feat_df.sort_values(by=['scores'], ascending=False, inplace=True)"
      ],
      "execution_count": 0,
      "outputs": []
    },
    {
      "cell_type": "code",
      "metadata": {
        "id": "pFjhSb2_Im8j",
        "colab_type": "code",
        "outputId": "7fd3d51b-38e0-48c0-9f75-aa837a587adc",
        "colab": {
          "base_uri": "https://localhost:8080/",
          "height": 328
        }
      },
      "source": [
        "feat_df"
      ],
      "execution_count": 0,
      "outputs": [
        {
          "output_type": "execute_result",
          "data": {
            "text/html": [
              "<div>\n",
              "<style scoped>\n",
              "    .dataframe tbody tr th:only-of-type {\n",
              "        vertical-align: middle;\n",
              "    }\n",
              "\n",
              "    .dataframe tbody tr th {\n",
              "        vertical-align: top;\n",
              "    }\n",
              "\n",
              "    .dataframe thead th {\n",
              "        text-align: right;\n",
              "    }\n",
              "</style>\n",
              "<table border=\"1\" class=\"dataframe\">\n",
              "  <thead>\n",
              "    <tr style=\"text-align: right;\">\n",
              "      <th></th>\n",
              "      <th>feature</th>\n",
              "      <th>scores</th>\n",
              "    </tr>\n",
              "  </thead>\n",
              "  <tbody>\n",
              "    <tr>\n",
              "      <th>1</th>\n",
              "      <td>MGR_ID</td>\n",
              "      <td>0.050355</td>\n",
              "    </tr>\n",
              "    <tr>\n",
              "      <th>0</th>\n",
              "      <td>RESOURCE</td>\n",
              "      <td>0.043026</td>\n",
              "    </tr>\n",
              "    <tr>\n",
              "      <th>6</th>\n",
              "      <td>ROLE_FAMILY_DESC</td>\n",
              "      <td>0.027490</td>\n",
              "    </tr>\n",
              "    <tr>\n",
              "      <th>4</th>\n",
              "      <td>ROLE_DEPTNAME</td>\n",
              "      <td>0.022763</td>\n",
              "    </tr>\n",
              "    <tr>\n",
              "      <th>3</th>\n",
              "      <td>ROLE_ROLLUP_2</td>\n",
              "      <td>0.015799</td>\n",
              "    </tr>\n",
              "    <tr>\n",
              "      <th>5</th>\n",
              "      <td>ROLE_TITLE</td>\n",
              "      <td>0.014312</td>\n",
              "    </tr>\n",
              "    <tr>\n",
              "      <th>8</th>\n",
              "      <td>ROLE_CODE</td>\n",
              "      <td>0.005224</td>\n",
              "    </tr>\n",
              "    <tr>\n",
              "      <th>7</th>\n",
              "      <td>ROLE_FAMILY</td>\n",
              "      <td>0.002234</td>\n",
              "    </tr>\n",
              "    <tr>\n",
              "      <th>2</th>\n",
              "      <td>ROLE_ROLLUP_1</td>\n",
              "      <td>0.002184</td>\n",
              "    </tr>\n",
              "  </tbody>\n",
              "</table>\n",
              "</div>"
            ],
            "text/plain": [
              "            feature    scores\n",
              "1            MGR_ID  0.050355\n",
              "0          RESOURCE  0.043026\n",
              "6  ROLE_FAMILY_DESC  0.027490\n",
              "4     ROLE_DEPTNAME  0.022763\n",
              "3     ROLE_ROLLUP_2  0.015799\n",
              "5        ROLE_TITLE  0.014312\n",
              "8         ROLE_CODE  0.005224\n",
              "7       ROLE_FAMILY  0.002234\n",
              "2     ROLE_ROLLUP_1  0.002184"
            ]
          },
          "metadata": {
            "tags": []
          },
          "execution_count": 51
        }
      ]
    },
    {
      "cell_type": "code",
      "metadata": {
        "id": "NWGGH0bUJNiW",
        "colab_type": "code",
        "colab": {}
      },
      "source": [
        "final_model.save_model('final_catboost_amazon_dataset.bin')"
      ],
      "execution_count": 0,
      "outputs": []
    },
    {
      "cell_type": "code",
      "metadata": {
        "id": "Fl_KoWitPXxf",
        "colab_type": "code",
        "outputId": "c9b55ec7-7822-43c6-dc92-a0fc7a2199b7",
        "colab": {
          "base_uri": "https://localhost:8080/",
          "height": 34
        }
      },
      "source": [
        "final_model"
      ],
      "execution_count": 0,
      "outputs": [
        {
          "output_type": "execute_result",
          "data": {
            "text/plain": [
              "<catboost.core.CatBoost at 0x7f68768cc0f0>"
            ]
          },
          "metadata": {
            "tags": []
          },
          "execution_count": 55
        }
      ]
    },
    {
      "cell_type": "code",
      "metadata": {
        "id": "ZK6ylvxdna-J",
        "colab_type": "code",
        "colab": {}
      },
      "source": [
        "import pickle\n"
      ],
      "execution_count": 0,
      "outputs": []
    },
    {
      "cell_type": "code",
      "metadata": {
        "id": "UbYmcxN1PjTj",
        "colab_type": "code",
        "colab": {}
      },
      "source": [
        "with open('models0_model_amazon.pickle', 'wb') as d_model:\n",
        "    pickle.dump(models[0], d_model)"
      ],
      "execution_count": 0,
      "outputs": []
    },
    {
      "cell_type": "code",
      "metadata": {
        "id": "IyQqKcdYSY_0",
        "colab_type": "code",
        "outputId": "04fd7795-ee7e-4bf4-bace-68d13ac901d7",
        "colab": {
          "base_uri": "https://localhost:8080/",
          "height": 80
        }
      },
      "source": [
        "validation_df.drop('ACTION', axis=1).head(1)"
      ],
      "execution_count": 0,
      "outputs": [
        {
          "output_type": "execute_result",
          "data": {
            "text/html": [
              "<div>\n",
              "<style scoped>\n",
              "    .dataframe tbody tr th:only-of-type {\n",
              "        vertical-align: middle;\n",
              "    }\n",
              "\n",
              "    .dataframe tbody tr th {\n",
              "        vertical-align: top;\n",
              "    }\n",
              "\n",
              "    .dataframe thead th {\n",
              "        text-align: right;\n",
              "    }\n",
              "</style>\n",
              "<table border=\"1\" class=\"dataframe\">\n",
              "  <thead>\n",
              "    <tr style=\"text-align: right;\">\n",
              "      <th></th>\n",
              "      <th>RESOURCE</th>\n",
              "      <th>MGR_ID</th>\n",
              "      <th>ROLE_ROLLUP_1</th>\n",
              "      <th>ROLE_ROLLUP_2</th>\n",
              "      <th>ROLE_DEPTNAME</th>\n",
              "      <th>ROLE_TITLE</th>\n",
              "      <th>ROLE_FAMILY_DESC</th>\n",
              "      <th>ROLE_FAMILY</th>\n",
              "      <th>ROLE_CODE</th>\n",
              "    </tr>\n",
              "  </thead>\n",
              "  <tbody>\n",
              "    <tr>\n",
              "      <th>12822</th>\n",
              "      <td>42085</td>\n",
              "      <td>4125</td>\n",
              "      <td>118887</td>\n",
              "      <td>118888</td>\n",
              "      <td>121108</td>\n",
              "      <td>120006</td>\n",
              "      <td>311746</td>\n",
              "      <td>118424</td>\n",
              "      <td>120008</td>\n",
              "    </tr>\n",
              "  </tbody>\n",
              "</table>\n",
              "</div>"
            ],
            "text/plain": [
              "       RESOURCE  MGR_ID  ...  ROLE_FAMILY  ROLE_CODE\n",
              "12822     42085    4125  ...       118424     120008\n",
              "\n",
              "[1 rows x 9 columns]"
            ]
          },
          "metadata": {
            "tags": []
          },
          "execution_count": 58
        }
      ]
    },
    {
      "cell_type": "code",
      "metadata": {
        "id": "DV5fnbMsJWiX",
        "colab_type": "code",
        "colab": {}
      },
      "source": [
        "preds = list(final_model.staged_predict(validation_df.drop('ACTION', axis=1), prediction_type='Probability', ntree_end=200))"
      ],
      "execution_count": 0,
      "outputs": []
    },
    {
      "cell_type": "code",
      "metadata": {
        "id": "jpaeIThm1K-U",
        "colab_type": "code",
        "outputId": "3c34a95d-f8ff-4580-ce61-b1023435d7bb",
        "colab": {
          "base_uri": "https://localhost:8080/",
          "height": 136
        }
      },
      "source": [
        "preds[199]"
      ],
      "execution_count": 0,
      "outputs": [
        {
          "output_type": "execute_result",
          "data": {
            "text/plain": [
              "array([[0.01294362, 0.98705638],\n",
              "       [0.01532217, 0.98467783],\n",
              "       [0.04291355, 0.95708645],\n",
              "       ...,\n",
              "       [0.64081333, 0.35918667],\n",
              "       [0.01467224, 0.98532776],\n",
              "       [0.0273299 , 0.9726701 ]])"
            ]
          },
          "metadata": {
            "tags": []
          },
          "execution_count": 95
        }
      ]
    },
    {
      "cell_type": "code",
      "metadata": {
        "id": "hm-B1OCqSeO9",
        "colab_type": "code",
        "outputId": "6415d7c8-a8b8-42ef-e942-841a7647c87b",
        "colab": {
          "base_uri": "https://localhost:8080/",
          "height": 34
        }
      },
      "source": [
        "auc = roc_auc_score(validation_df['ACTION'], [r[1] for r in preds[199]])\n",
        "print(f'Staged predict Final model AUC is {auc}')"
      ],
      "execution_count": 0,
      "outputs": [
        {
          "output_type": "stream",
          "text": [
            "Staged predict Final model AUC is 0.8903777074929137\n"
          ],
          "name": "stdout"
        }
      ]
    },
    {
      "cell_type": "code",
      "metadata": {
        "id": "LRwt_UX1vYsK",
        "colab_type": "code",
        "colab": {}
      },
      "source": [
        "final_model.shrink(200)"
      ],
      "execution_count": 0,
      "outputs": []
    },
    {
      "cell_type": "code",
      "metadata": {
        "id": "y65qLGIJvfcA",
        "colab_type": "code",
        "colab": {}
      },
      "source": [
        "with open('shrink_model_amazon.pickle', 'wb') as d_model:\n",
        "    pickle.dump(final_model, d_model)"
      ],
      "execution_count": 0,
      "outputs": []
    },
    {
      "cell_type": "code",
      "metadata": {
        "id": "mdFYZTGR3f2-",
        "colab_type": "code",
        "outputId": "25d6956c-591a-4aee-ac88-2f883210f2b7",
        "colab": {
          "base_uri": "https://localhost:8080/",
          "height": 34
        }
      },
      "source": [
        "auc = roc_auc_score(validation_df['ACTION'], [r[1] for r in final_model.predict(validation_df.drop('ACTION', axis=1), prediction_type='Probability')])\n",
        "print(f'Staged predict Final model AUC is {auc}')"
      ],
      "execution_count": 0,
      "outputs": [
        {
          "output_type": "stream",
          "text": [
            "Staged predict Final model AUC is 0.8903777074929137\n"
          ],
          "name": "stdout"
        }
      ]
    },
    {
      "cell_type": "code",
      "metadata": {
        "id": "psqP1b7V3zM4",
        "colab_type": "code",
        "colab": {}
      },
      "source": [
        ""
      ],
      "execution_count": 0,
      "outputs": []
    }
  ]
}