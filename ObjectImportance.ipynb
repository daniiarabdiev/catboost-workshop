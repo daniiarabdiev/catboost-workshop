{
  "nbformat": 4,
  "nbformat_minor": 0,
  "metadata": {
    "colab": {
      "name": "ObjectImportance.ipynb",
      "provenance": []
    },
    "kernelspec": {
      "name": "python3",
      "display_name": "Python 3"
    }
  },
  "cells": [
    {
      "cell_type": "code",
      "metadata": {
        "id": "2-pL1zIADLVE",
        "colab_type": "code",
        "outputId": "dc12587b-57ae-49b0-8bf0-5d4af0c354e6",
        "colab": {
          "base_uri": "https://localhost:8080/",
          "height": 340
        }
      },
      "source": [
        "!pip install catboost"
      ],
      "execution_count": 0,
      "outputs": [
        {
          "output_type": "stream",
          "text": [
            "Collecting catboost\n",
            "\u001b[?25l  Downloading https://files.pythonhosted.org/packages/97/c4/586923de4634f88a31fd1b4966e15707a912b98b6f4566651b5ef58f36b5/catboost-0.20.2-cp36-none-manylinux1_x86_64.whl (63.9MB)\n",
            "\u001b[K     |████████████████████████████████| 63.9MB 63kB/s \n",
            "\u001b[?25hRequirement already satisfied: numpy>=1.16.0 in /usr/local/lib/python3.6/dist-packages (from catboost) (1.17.5)\n",
            "Requirement already satisfied: six in /usr/local/lib/python3.6/dist-packages (from catboost) (1.12.0)\n",
            "Requirement already satisfied: scipy in /usr/local/lib/python3.6/dist-packages (from catboost) (1.4.1)\n",
            "Requirement already satisfied: matplotlib in /usr/local/lib/python3.6/dist-packages (from catboost) (3.1.2)\n",
            "Requirement already satisfied: pandas>=0.24.0 in /usr/local/lib/python3.6/dist-packages (from catboost) (0.25.3)\n",
            "Requirement already satisfied: graphviz in /usr/local/lib/python3.6/dist-packages (from catboost) (0.10.1)\n",
            "Requirement already satisfied: plotly in /usr/local/lib/python3.6/dist-packages (from catboost) (4.4.1)\n",
            "Requirement already satisfied: pyparsing!=2.0.4,!=2.1.2,!=2.1.6,>=2.0.1 in /usr/local/lib/python3.6/dist-packages (from matplotlib->catboost) (2.4.6)\n",
            "Requirement already satisfied: kiwisolver>=1.0.1 in /usr/local/lib/python3.6/dist-packages (from matplotlib->catboost) (1.1.0)\n",
            "Requirement already satisfied: cycler>=0.10 in /usr/local/lib/python3.6/dist-packages (from matplotlib->catboost) (0.10.0)\n",
            "Requirement already satisfied: python-dateutil>=2.1 in /usr/local/lib/python3.6/dist-packages (from matplotlib->catboost) (2.6.1)\n",
            "Requirement already satisfied: pytz>=2017.2 in /usr/local/lib/python3.6/dist-packages (from pandas>=0.24.0->catboost) (2018.9)\n",
            "Requirement already satisfied: retrying>=1.3.3 in /usr/local/lib/python3.6/dist-packages (from plotly->catboost) (1.3.3)\n",
            "Requirement already satisfied: setuptools in /usr/local/lib/python3.6/dist-packages (from kiwisolver>=1.0.1->matplotlib->catboost) (42.0.2)\n",
            "Installing collected packages: catboost\n",
            "Successfully installed catboost-0.20.2\n"
          ],
          "name": "stdout"
        }
      ]
    },
    {
      "cell_type": "code",
      "metadata": {
        "id": "hRKdlJk5CYrt",
        "colab_type": "code",
        "colab": {}
      },
      "source": [
        "import numpy as np\n",
        "from catboost import CatBoost, Pool, datasets\n",
        "from sklearn.model_selection import train_test_split"
      ],
      "execution_count": 0,
      "outputs": []
    },
    {
      "cell_type": "code",
      "metadata": {
        "id": "hFNU-7jKDOfh",
        "colab_type": "code",
        "outputId": "95bf0511-4f08-48f0-dbae-643119458e89",
        "colab": {
          "base_uri": "https://localhost:8080/",
          "height": 34
        }
      },
      "source": [
        "train_df, _ = datasets.amazon()\n",
        "X, y = np.array(train_df.drop(['ACTION'], axis=1)), np.array(train_df.ACTION)\n",
        "cat_features = np.arange(9) # indices of categorical features\n",
        "\n",
        "X_train, X_validation, y_train, y_validation = train_test_split(X, y, test_size=0.25, random_state=42)\n",
        "train_pool = Pool(X_train, y_train, cat_features=cat_features)\n",
        "validation_pool = Pool(X_validation, y_validation, cat_features=cat_features)\n",
        "\n",
        "print(train_pool.shape, validation_pool.shape)"
      ],
      "execution_count": 0,
      "outputs": [
        {
          "output_type": "stream",
          "text": [
            "(24576, 9) (8193, 9)\n"
          ],
          "name": "stdout"
        }
      ]
    },
    {
      "cell_type": "code",
      "metadata": {
        "id": "GatSSc23DSg3",
        "colab_type": "code",
        "outputId": "6e64a591-aa47-49e1-8050-1ca14e7d652b",
        "colab": {
          "base_uri": "https://localhost:8080/",
          "height": 34
        }
      },
      "source": [
        "cb = CatBoost({'iterations': 100, 'verbose': False, 'random_seed': 42})\n",
        "cb.fit(train_pool);\n",
        "print(cb.eval_metrics(validation_pool, ['RMSE'])['RMSE'][-1])"
      ],
      "execution_count": 0,
      "outputs": [
        {
          "output_type": "stream",
          "text": [
            "0.20728569861391216\n"
          ],
          "name": "stdout"
        }
      ]
    },
    {
      "cell_type": "code",
      "metadata": {
        "id": "2VhoWRMmDVPP",
        "colab_type": "code",
        "colab": {}
      },
      "source": [
        "np.random.seed(42)\n",
        "perturbed_idxs = np.random.choice(len(y_train), size=int(len(y_train) * 0.1), replace=False)\n",
        "y_train_noisy = y_train.copy()\n",
        "y_train_noisy[perturbed_idxs] = 1 - y_train_noisy[perturbed_idxs]\n",
        "train_pool_noisy = Pool(X_train, y_train_noisy, cat_features=cat_features)"
      ],
      "execution_count": 0,
      "outputs": []
    },
    {
      "cell_type": "code",
      "metadata": {
        "id": "OURB5s-hDYbR",
        "colab_type": "code",
        "outputId": "6d7a2efd-8a58-4ead-997c-e903cd5d024d",
        "colab": {
          "base_uri": "https://localhost:8080/",
          "height": 34
        }
      },
      "source": [
        "cb.fit(train_pool_noisy);\n",
        "print(cb.eval_metrics(validation_pool, ['RMSE'])['RMSE'][-1])"
      ],
      "execution_count": 0,
      "outputs": [
        {
          "output_type": "stream",
          "text": [
            "0.23639586778659294\n"
          ],
          "name": "stdout"
        }
      ]
    },
    {
      "cell_type": "code",
      "metadata": {
        "id": "X1MSadfYDbtm",
        "colab_type": "code",
        "colab": {}
      },
      "source": [
        "np.random.seed(42)\n",
        "test_idx = np.random.choice(np.arange(y_validation.shape[0]), size=500, replace=False)\n",
        "validation_pool_sampled = Pool(X_validation[test_idx], y_validation[test_idx], cat_features=cat_features)\n",
        "\n",
        "indices, scores = cb.get_object_importance(\n",
        "    validation_pool_sampled,\n",
        "    train_pool_noisy,\n",
        "    importance_values_sign='Positive' # Positive values means that the optimized metric\n",
        "                                      # value is increase because of given train objects.\n",
        "                                      # So here we get the indices of bad train objects.\n",
        ")"
      ],
      "execution_count": 0,
      "outputs": []
    },
    {
      "cell_type": "code",
      "metadata": {
        "id": "uGKxkC9DEhnt",
        "colab_type": "code",
        "outputId": "2dfb0706-1b8a-4266-b661-6f35211dcc95",
        "colab": {
          "base_uri": "https://localhost:8080/",
          "height": 170
        }
      },
      "source": [
        "def train_and_print_score(train_indices, remove_object_count):\n",
        "    cb.fit(X_train[train_indices], y_train_noisy[train_indices], cat_features=cat_features)\n",
        "    metric_value = cb.eval_metrics(validation_pool, ['RMSE'])['RMSE'][-1]\n",
        "    s = 'RMSE on validation dataset when {} harmful objects from train are dropped: {}'\n",
        "    print(s.format(remove_object_count, metric_value))\n",
        "    return X_train[train_indices], y_train_noisy[train_indices]\n",
        "\n",
        "batch_size = 250\n",
        "train_indices = np.full(X_train.shape[0], True)\n",
        "train_and_print_score(train_indices, 0)\n",
        "dataframes = []\n",
        "for batch_start_index in range(0, 2000, batch_size):\n",
        "    train_indices[indices[batch_start_index:batch_start_index + batch_size]] = False\n",
        "    dataframe = train_and_print_score(train_indices, batch_start_index + batch_size)\n",
        "    dataframes.append(dataframe)\n",
        "\n",
        "\n",
        "\n"
      ],
      "execution_count": 44,
      "outputs": [
        {
          "output_type": "stream",
          "text": [
            "RMSE on validation dataset when 0 harmful objects from train are dropped: 0.23639586778659294\n",
            "RMSE on validation dataset when 250 harmful objects from train are dropped: 0.2353242014145958\n",
            "RMSE on validation dataset when 500 harmful objects from train are dropped: 0.23064887642153187\n",
            "RMSE on validation dataset when 750 harmful objects from train are dropped: 0.2298147245640675\n",
            "RMSE on validation dataset when 1000 harmful objects from train are dropped: 0.22925333191236252\n",
            "RMSE on validation dataset when 1250 harmful objects from train are dropped: 0.229903662176537\n",
            "RMSE on validation dataset when 1500 harmful objects from train are dropped: 0.2308325906972554\n",
            "RMSE on validation dataset when 1750 harmful objects from train are dropped: 0.23403875662684973\n",
            "RMSE on validation dataset when 2000 harmful objects from train are dropped: 0.24233303615177418\n"
          ],
          "name": "stdout"
        }
      ]
    },
    {
      "cell_type": "code",
      "metadata": {
        "id": "r_h6--hLEk8E",
        "colab_type": "code",
        "colab": {}
      },
      "source": [
        "cb.fit(dataframes[3][0], dataframes[3][1], cat_features=cat_features)\n",
        "metric_value = cb.eval_metrics(validation_pool, ['RMSE'])['RMSE'][-1]"
      ],
      "execution_count": 0,
      "outputs": []
    },
    {
      "cell_type": "code",
      "metadata": {
        "id": "XIS8V_AyGAan",
        "colab_type": "code",
        "colab": {
          "base_uri": "https://localhost:8080/",
          "height": 34
        },
        "outputId": "2966e463-9c72-4b6e-e8a8-02de412fe69e"
      },
      "source": [
        "metric_value"
      ],
      "execution_count": 49,
      "outputs": [
        {
          "output_type": "execute_result",
          "data": {
            "text/plain": [
              "0.22925333191236252"
            ]
          },
          "metadata": {
            "tags": []
          },
          "execution_count": 49
        }
      ]
    },
    {
      "cell_type": "code",
      "metadata": {
        "id": "9wXA_2nZG1sJ",
        "colab_type": "code",
        "outputId": "1069b8a2-088b-4264-9423-5d1b74919bd5",
        "colab": {
          "base_uri": "https://localhost:8080/",
          "height": 34
        }
      },
      "source": [
        ""
      ],
      "execution_count": 0,
      "outputs": [
        {
          "output_type": "stream",
          "text": [
            "0.24233303615177418\n"
          ],
          "name": "stdout"
        }
      ]
    },
    {
      "cell_type": "code",
      "metadata": {
        "id": "02CgXPcOG36F",
        "colab_type": "code",
        "colab": {}
      },
      "source": [
        ""
      ],
      "execution_count": 0,
      "outputs": []
    }
  ]
}